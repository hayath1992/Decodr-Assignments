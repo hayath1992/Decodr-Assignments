{
 "cells": [
  {
   "cell_type": "markdown",
   "metadata": {
    "id": "xkS9gXm7JAwb"
   },
   "source": [
    "# Variable and Operator "
   ]
  },
  {
   "cell_type": "markdown",
   "metadata": {
    "id": "bpWJpSkLKLHd"
   },
   "source": [
    "**[Slide No.- 19]**\n",
    "\n",
    "1. Which one of the following is correct way of declaring and initialising a variable, x with value 5?\n",
    "\n",
    "A. int x\n",
    "  \n",
    "    x=5\n",
    "\n",
    "B. int x=5\n",
    "\n",
    "C. x=5\n",
    "\n",
    "D. declare x=5\n",
    "\n",
    "\n",
    "\n",
    "\n"
   ]
  },
  {
   "cell_type": "code",
   "execution_count": 17,
   "metadata": {
    "id": "-gWs4ttlI3TT"
   },
   "outputs": [],
   "source": [
    "# Check your Answer\n",
    "#my answer is x=5\n",
    "x=5"
   ]
  },
  {
   "cell_type": "markdown",
   "metadata": {
    "id": "gpg53f-UKhi1"
   },
   "source": [
    "**[Slide No.-19]**\n",
    "\n",
    "2. Which of the following is not valid variable name in Python?\n",
    "\n",
    "A. _var = 6\n",
    "\n",
    "B. var_name = 6\n",
    "\n",
    "C. var11 = 6\n",
    "\n",
    "D. 11var = 6"
   ]
  },
  {
   "cell_type": "code",
   "execution_count": 18,
   "metadata": {
    "id": "4eFCqihlKg6W"
   },
   "outputs": [
    {
     "ename": "SyntaxError",
     "evalue": "invalid syntax (<ipython-input-18-0d28782b44e7>, line 3)",
     "output_type": "error",
     "traceback": [
      "\u001b[1;36m  File \u001b[1;32m\"<ipython-input-18-0d28782b44e7>\"\u001b[1;36m, line \u001b[1;32m3\u001b[0m\n\u001b[1;33m    11var=6\u001b[0m\n\u001b[1;37m      ^\u001b[0m\n\u001b[1;31mSyntaxError\u001b[0m\u001b[1;31m:\u001b[0m invalid syntax\n"
     ]
    }
   ],
   "source": [
    "#Check your Answer\n",
    "#my answer- 11var=6 (variable cant be defined starting with number)\n",
    "11var=6"
   ]
  },
  {
   "cell_type": "markdown",
   "metadata": {
    "id": "uIU52OVeLOO2"
   },
   "source": [
    "**[Slide No.- 19]**\n",
    "\n",
    "\n",
    "3. Which of the following will give error?\n",
    "\n",
    "A. a=b=c=1\n",
    "\n",
    "B. a,b,c=1\n",
    "\n",
    "C. a b c=1, 4, 1.5\n",
    "\n",
    "D. None of the above"
   ]
  },
  {
   "cell_type": "code",
   "execution_count": 15,
   "metadata": {
    "id": "ZFU-przBLmgX"
   },
   "outputs": [
    {
     "ename": "TypeError",
     "evalue": "cannot unpack non-iterable int object",
     "output_type": "error",
     "traceback": [
      "\u001b[1;31m---------------------------------------------------------------------------\u001b[0m",
      "\u001b[1;31mTypeError\u001b[0m                                 Traceback (most recent call last)",
      "\u001b[1;32m<ipython-input-15-91b8c573823e>\u001b[0m in \u001b[0;36m<module>\u001b[1;34m\u001b[0m\n\u001b[0;32m      2\u001b[0m \u001b[1;31m# my answer is a,b,c=1\u001b[0m\u001b[1;33m\u001b[0m\u001b[1;33m\u001b[0m\u001b[1;33m\u001b[0m\u001b[0m\n\u001b[0;32m      3\u001b[0m \u001b[1;33m\u001b[0m\u001b[0m\n\u001b[1;32m----> 4\u001b[1;33m \u001b[0ma\u001b[0m\u001b[1;33m,\u001b[0m\u001b[0mb\u001b[0m\u001b[1;33m,\u001b[0m\u001b[0mc\u001b[0m\u001b[1;33m=\u001b[0m\u001b[1;36m1\u001b[0m\u001b[1;33m\u001b[0m\u001b[1;33m\u001b[0m\u001b[0m\n\u001b[0m",
      "\u001b[1;31mTypeError\u001b[0m: cannot unpack non-iterable int object"
     ]
    }
   ],
   "source": [
    "#Check your Answer\n",
    "# my answer is a,b,c=1\n",
    "\n",
    "a,b,c=1"
   ]
  },
  {
   "cell_type": "markdown",
   "metadata": {
    "id": "sOaKfvOMMdEw"
   },
   "source": [
    "**[Slide No.- 21]**\n",
    "\n",
    "4. What is the output of the following code\n",
    "\n",
    "x = 6\n",
    "\n",
    "y = 2\n",
    "\n",
    "a=print(x ** y)\n",
    "\n",
    "b= print(x // y)"
   ]
  },
  {
   "cell_type": "code",
   "execution_count": 19,
   "metadata": {
    "id": "8Y5nOCbuLywt"
   },
   "outputs": [
    {
     "name": "stdout",
     "output_type": "stream",
     "text": [
      "36\n",
      "3\n"
     ]
    }
   ],
   "source": [
    "#Check your Answer\n",
    "# my answer is 36 and 6\n",
    "x = 6\n",
    "\n",
    "y = 2\n",
    "\n",
    "a=print(x ** y)\n",
    "\n",
    "b= print(x // y)\n",
    "\n"
   ]
  },
  {
   "cell_type": "markdown",
   "metadata": {
    "id": "-FxzjkhMNkZw"
   },
   "source": [
    "**[Slide No.-21]**\n",
    "\n",
    "# find the value of this expression (v+w) * x/ y\n",
    "v = 4\n",
    "\n",
    "w = 5\n",
    "\n",
    "x = 8\n",
    "\n",
    "\n",
    "y = 2\n",
    "\n",
    "z = 0"
   ]
  },
  {
   "cell_type": "code",
   "execution_count": 21,
   "metadata": {
    "id": "kx6gTDJWNjnT"
   },
   "outputs": [
    {
     "name": "stdout",
     "output_type": "stream",
     "text": [
      "36.0\n"
     ]
    }
   ],
   "source": [
    "#my answer is 36\n",
    "v = 4\n",
    "\n",
    "w = 5\n",
    "\n",
    "x = 8\n",
    "\n",
    "y = 2\n",
    "\n",
    "z = 0\n",
    "\n",
    "print((v+w) * x/ y)\n"
   ]
  },
  {
   "cell_type": "markdown",
   "metadata": {
    "id": "KrG9aIGjN6C5"
   },
   "source": [
    "**[Slide No.- 21]**\n",
    "\n",
    "6. What is the output of print(10 - 4 * 2)"
   ]
  },
  {
   "cell_type": "code",
   "execution_count": 22,
   "metadata": {
    "id": "VfvhDJ2zN5bg"
   },
   "outputs": [
    {
     "name": "stdout",
     "output_type": "stream",
     "text": [
      "2\n"
     ]
    }
   ],
   "source": [
    "#my answeer is 2\n",
    "print(10 - 4 * 2)\n"
   ]
  },
  {
   "cell_type": "markdown",
   "metadata": {
    "id": "k3JGKOfQOBhQ"
   },
   "source": [
    "**[Slide No.-21]**\n",
    "\n",
    "7. What is the output of print(2 * 3 ** 3 * 4)"
   ]
  },
  {
   "cell_type": "code",
   "execution_count": 23,
   "metadata": {
    "id": "BYuPgLHZOAr4"
   },
   "outputs": [
    {
     "name": "stdout",
     "output_type": "stream",
     "text": [
      "216\n"
     ]
    }
   ],
   "source": [
    "#Check your Answer\n",
    "#my answer is 216\n",
    "\n",
    "print(2 * 3 ** 3 * 4)\n"
   ]
  },
  {
   "cell_type": "markdown",
   "metadata": {
    "id": "xW2pUR61OMGp"
   },
   "source": [
    "8. What is the output of the expression  print(-18 // 4)"
   ]
  },
  {
   "cell_type": "code",
   "execution_count": 9,
   "metadata": {
    "colab": {
     "base_uri": "https://localhost:8080/"
    },
    "executionInfo": {
     "elapsed": 522,
     "status": "ok",
     "timestamp": 1622293040079,
     "user": {
      "displayName": "Krishan Kumar",
      "photoUrl": "",
      "userId": "12260471180281868064"
     },
     "user_tz": 420
    },
    "id": "nkDvUrFIOLWo",
    "outputId": "e37eadee-a23c-480d-e74d-6c86309f1c43"
   },
   "outputs": [
    {
     "name": "stdout",
     "output_type": "stream",
     "text": [
      "-5\n"
     ]
    }
   ],
   "source": [
    "#my answer is -5\n",
    "print(-18 // 4)"
   ]
  },
  {
   "cell_type": "markdown",
   "metadata": {
    "id": "jKsDtqzXOu1Y"
   },
   "source": [
    "**[Slide No.- 21]**\n",
    "\n",
    "9. Write a program to check 5 is less then 10 or greater then 3."
   ]
  },
  {
   "cell_type": "code",
   "execution_count": 14,
   "metadata": {},
   "outputs": [
    {
     "name": "stdout",
     "output_type": "stream",
     "text": [
      "True\n"
     ]
    }
   ],
   "source": [
    "#my answer is  print(5<10 or 5>3)\n",
    "print(5<10 or 5>3)"
   ]
  },
  {
   "cell_type": "markdown",
   "metadata": {
    "id": "tZ86dv17lJaf"
   },
   "source": [
    "10 . Write a program  by using 'and' ,'or' And 'not' operator ?"
   ]
  },
  {
   "cell_type": "code",
   "execution_count": 24,
   "metadata": {
    "colab": {
     "base_uri": "https://localhost:8080/"
    },
    "executionInfo": {
     "elapsed": 937,
     "status": "ok",
     "timestamp": 1622294268233,
     "user": {
      "displayName": "Krishan Kumar",
      "photoUrl": "",
      "userId": "12260471180281868064"
     },
     "user_tz": 420
    },
    "id": "81iiP2NKvwXV",
    "outputId": "08dfd9eb-fead-4d47-f642-5140002d3359"
   },
   "outputs": [
    {
     "name": "stdout",
     "output_type": "stream",
     "text": [
      "True\n"
     ]
    }
   ],
   "source": [
    "#my program using AND operator\n",
    "#my desired output is true\n",
    "\n",
    "x=2\n",
    "y=3\n",
    "z=4\n",
    "\n",
    "print(x<y or x>z)\n"
   ]
  },
  {
   "cell_type": "code",
   "execution_count": 25,
   "metadata": {
    "colab": {
     "base_uri": "https://localhost:8080/"
    },
    "executionInfo": {
     "elapsed": 16,
     "status": "ok",
     "timestamp": 1622294321732,
     "user": {
      "displayName": "Krishan Kumar",
      "photoUrl": "",
      "userId": "12260471180281868064"
     },
     "user_tz": 420
    },
    "id": "q-veNPPBRsLj",
    "outputId": "5d115795-76e0-4370-e848-b67e3411391e",
    "scrolled": true
   },
   "outputs": [
    {
     "name": "stdout",
     "output_type": "stream",
     "text": [
      "False\n"
     ]
    }
   ],
   "source": [
    "#my program using AND operator\n",
    "#my desired output is false\n",
    "\n",
    "x=2\n",
    "y=3\n",
    "z=4\n",
    "\n",
    "print(x<y and x>z)"
   ]
  },
  {
   "cell_type": "markdown",
   "metadata": {
    "id": "4h-oViRKvxJY"
   },
   "source": [
    "**[Slide No.- 27]**\n",
    "\n",
    "11. What is the output of the following assignment operator\n",
    "\n",
    "y = 10\n",
    "\n",
    "y += 2\n",
    "\n",
    "print(y)"
   ]
  },
  {
   "cell_type": "code",
   "execution_count": 26,
   "metadata": {
    "id": "rK0jrT2Kv4Do"
   },
   "outputs": [
    {
     "name": "stdout",
     "output_type": "stream",
     "text": [
      "12\n"
     ]
    }
   ],
   "source": [
    "#my answer is 12\n",
    "y = 10\n",
    "\n",
    "y += 2\n",
    "\n",
    "print(y)\n"
   ]
  },
  {
   "cell_type": "markdown",
   "metadata": {
    "id": "RodqAVuDRXcY"
   },
   "source": [
    "**[Slide No.-27]**\n",
    "\n",
    "12. What is the output of the code .\n",
    "\n",
    "x=5\n",
    "\n",
    "x +=x+4\n",
    "\n",
    "print(x)\n"
   ]
  },
  {
   "cell_type": "code",
   "execution_count": 10,
   "metadata": {
    "colab": {
     "base_uri": "https://localhost:8080/"
    },
    "executionInfo": {
     "elapsed": 1050,
     "status": "ok",
     "timestamp": 1620471778696,
     "user": {
      "displayName": "Decodr Academy",
      "photoUrl": "",
      "userId": "02634807145547483916"
     },
     "user_tz": 420
    },
    "id": "qZ7OH6KIRaJJ",
    "outputId": "20073ddf-3462-4817-b445-ab789f6767af"
   },
   "outputs": [
    {
     "name": "stdout",
     "output_type": "stream",
     "text": [
      "14\n"
     ]
    }
   ],
   "source": [
    "#my answer is 14\n",
    "x=5\n",
    "\n",
    "x +=x+4\n",
    "\n",
    "print(x)"
   ]
  },
  {
   "cell_type": "markdown",
   "metadata": {
    "id": "ymG3gW4eT3F7"
   },
   "source": [
    "**[Slide No.-27]**\n",
    "\n",
    "13.  what is the output :\n",
    "\n",
    "y=7\n",
    "\n",
    "x  +=y+4\n",
    "\n",
    "print(x)"
   ]
  },
  {
   "cell_type": "code",
   "execution_count": 27,
   "metadata": {
    "colab": {
     "base_uri": "https://localhost:8080/"
    },
    "executionInfo": {
     "elapsed": 484,
     "status": "ok",
     "timestamp": 1622295598263,
     "user": {
      "displayName": "Decodr Academy",
      "photoUrl": "",
      "userId": "02634807145547483916"
     },
     "user_tz": 420
    },
    "id": "4tW3Sr0bSOTK",
    "outputId": "9a08dd1e-d7dd-4b42-c35b-cf3e066f70c9"
   },
   "outputs": [
    {
     "name": "stdout",
     "output_type": "stream",
     "text": [
      "13\n"
     ]
    }
   ],
   "source": [
    "y=7\n",
    "\n",
    "x +=y+4\n",
    "\n",
    "print(x)"
   ]
  },
  {
   "cell_type": "code",
   "execution_count": null,
   "metadata": {
    "colab": {
     "base_uri": "https://localhost:8080/"
    },
    "executionInfo": {
     "elapsed": 826,
     "status": "ok",
     "timestamp": 1622294928497,
     "user": {
      "displayName": "Krishan Kumar",
      "photoUrl": "",
      "userId": "12260471180281868064"
     },
     "user_tz": 420
    },
    "id": "frBxuwIGc6E0",
    "outputId": "2fa25225-7ca0-4384-816d-d38507a12a5f"
   },
   "outputs": [],
   "source": []
  },
  {
   "cell_type": "code",
   "execution_count": null,
   "metadata": {
    "colab": {
     "base_uri": "https://localhost:8080/"
    },
    "executionInfo": {
     "elapsed": 526,
     "status": "ok",
     "timestamp": 1622295033885,
     "user": {
      "displayName": "Krishan Kumar",
      "photoUrl": "",
      "userId": "12260471180281868064"
     },
     "user_tz": 420
    },
    "id": "tXqq-wwjsOIY",
    "outputId": "5536c751-bd9a-4491-ac09-dc5c278ed9cb"
   },
   "outputs": [],
   "source": []
  },
  {
   "cell_type": "code",
   "execution_count": null,
   "metadata": {
    "colab": {
     "base_uri": "https://localhost:8080/"
    },
    "executionInfo": {
     "elapsed": 983,
     "status": "ok",
     "timestamp": 1620472673705,
     "user": {
      "displayName": "Decodr Academy",
      "photoUrl": "",
      "userId": "02634807145547483916"
     },
     "user_tz": 420
    },
    "id": "L0ZIWAPksT0T",
    "outputId": "ff19384f-87fb-4378-aaaa-6d98a637ddde"
   },
   "outputs": [],
   "source": []
  },
  {
   "cell_type": "code",
   "execution_count": null,
   "metadata": {},
   "outputs": [],
   "source": []
  }
 ],
 "metadata": {
  "colab": {
   "collapsed_sections": [],
   "name": "Variable_and_operator_.ipynb",
   "provenance": []
  },
  "kernelspec": {
   "display_name": "Python 3",
   "language": "python",
   "name": "python3"
  },
  "language_info": {
   "codemirror_mode": {
    "name": "ipython",
    "version": 3
   },
   "file_extension": ".py",
   "mimetype": "text/x-python",
   "name": "python",
   "nbconvert_exporter": "python",
   "pygments_lexer": "ipython3",
   "version": "3.8.8"
  }
 },
 "nbformat": 4,
 "nbformat_minor": 1
}
